{
 "cells": [
  {
   "cell_type": "code",
   "execution_count": 111,
   "id": "b476d270",
   "metadata": {},
   "outputs": [],
   "source": [
    "import matplotlib.pyplot as plt\n",
    "\n",
    "from sklearn import datasets, metrics\n",
    "from sklearn.model_selection import train_test_split "
   ]
  },
  {
   "cell_type": "code",
   "execution_count": 112,
   "id": "fd0668a5",
   "metadata": {},
   "outputs": [
    {
     "data": {
      "text/plain": [
       "<matplotlib.image.AxesImage at 0x1a517591310>"
      ]
     },
     "execution_count": 112,
     "metadata": {},
     "output_type": "execute_result"
    },
    {
     "data": {
      "image/png": "[encoded data removed]",
      "text/plain": [
       "<Figure size 640x480 with 1 Axes>"
      ]
     },
     "metadata": {},
     "output_type": "display_data"
    }
   ],
   "source": [
    "digits = datasets.load_digits()\n",
    "plt.imshow(digits.images[0], cmap = plt.cm.gray_r, interpolation = 'nearest')\n"
   ]
  },
  {
   "cell_type": "code",
   "execution_count": 113,
   "id": "1a0659e0",
   "metadata": {},
   "outputs": [],
   "source": [
    "n_samples = len(digits.images)\n",
    "data = digits.images.reshape((n_samples,-1))"
   ]
  },
  {
   "cell_type": "code",
   "execution_count": 6,
   "id": "44a3c75a",
   "metadata": {},
   "outputs": [],
   "source": [
    "from sklearn.neighbors import KNeighborsClassifier"
   ]
  },
  {
   "cell_type": "code",
   "execution_count": 7,
   "id": "04496fc0",
   "metadata": {},
   "outputs": [],
   "source": [
    "knn = KNeighborsClassifier(n_neighbors = 6)"
   ]
  },
  {
   "cell_type": "code",
   "execution_count": 8,
   "id": "e547f731",
   "metadata": {},
   "outputs": [],
   "source": [
    "X_train, X_test, y_train,y_test = train_test_split(data,digits.target, test_size = 0.2)"
   ]
  },
  {
   "cell_type": "code",
   "execution_count": 9,
   "id": "818f9460",
   "metadata": {},
   "outputs": [
    {
     "name": "stdout",
     "output_type": "stream",
     "text": [
      "0.9805555555555555\n"
     ]
    }
   ],
   "source": [
    "knn.fit(X_train,y_train)\n",
    "y_pred = knn.predict(X_test)\n",
    "scores = metrics.accuracy_score(y_test, y_pred)\n",
    "print(scores)"
   ]
  },
  {
   "cell_type": "code",
   "execution_count": 11,
   "id": "b53966f4",
   "metadata": {},
   "outputs": [
    {
     "name": "stdout",
     "output_type": "stream",
     "text": [
      "[0]\n"
     ]
    },
    {
     "data": {
      "image/png": "[encoded data removed]",
      "text/plain": [
       "<Figure size 640x480 with 1 Axes>"
      ]
     },
     "metadata": {},
     "output_type": "display_data"
    }
   ],
   "source": [
    "plt.imshow(X_test[10].reshape(8,8),cmap = plt.cm.gray_r,interpolation = 'nearest')\n",
    "y_pred = knn.predict([X_test[10]])\n",
    "print(y_pred)"
   ]
  },
  {
   "cell_type": "code",
   "execution_count": 15,
   "id": "0574e6a2",
   "metadata": {},
   "outputs": [],
   "source": [
    "from sklearn.linear_model import LogisticRegression\n",
    "from sklearn.svm import SVC\n",
    "from sklearn.neural_network import MLPClassifier\n",
    "from sklearn.tree import DecisionTreeClassifier\n",
    "from sklearn.metrics import accuracy_score\n",
    "from sklearn.metrics import confusion_matrix"
   ]
  },
  {
   "cell_type": "code",
   "execution_count": 16,
   "id": "994e109e",
   "metadata": {},
   "outputs": [
    {
     "name": "stdout",
     "output_type": "stream",
     "text": [
      "\n",
      " ------ Logistic Regression Classifier------\n",
      "0.9694444444444444\n",
      "[[37  0  0  0  0  0  0  0  0  0]\n",
      " [ 0 35  0  0  0  0  0  0  2  0]\n",
      " [ 0  0 31  0  0  0  0  0  0  0]\n",
      " [ 0  0  1 31  0  0  0  0  0  0]\n",
      " [ 0  1  0  0 32  0  0  0  0  1]\n",
      " [ 0  0  0  0  0 33  0  0  0  0]\n",
      " [ 0  0  0  0  0  1 32  0  0  0]\n",
      " [ 0  0  0  0  0  0  0 39  0  0]\n",
      " [ 0  0  0  0  0  0  0  0 41  0]\n",
      " [ 0  0  0  1  1  2  0  0  1 38]]\n"
     ]
    },
    {
     "name": "stderr",
     "output_type": "stream",
     "text": [
      "C:\\Users\\choha\\anaconda3\\Lib\\site-packages\\sklearn\\linear_model\\_logistic.py:460: ConvergenceWarning: lbfgs failed to converge (status=1):\n",
      "STOP: TOTAL NO. of ITERATIONS REACHED LIMIT.\n",
      "\n",
      "Increase the number of iterations (max_iter) or scale the data as shown in:\n",
      "    https://scikit-learn.org/stable/modules/preprocessing.html\n",
      "Please also refer to the documentation for alternative solver options:\n",
      "    https://scikit-learn.org/stable/modules/linear_model.html#logistic-regression\n",
      "  n_iter_i = _check_optimize_result(\n"
     ]
    }
   ],
   "source": [
    "clf_lr = LogisticRegression(random_state=0)\n",
    "clf_lr.fit(X_train,y_train)\n",
    "\n",
    "pred_lr = clf_lr.predict(X_test)\n",
    "\n",
    "print('\\n ------ Logistic Regression Classifier------')\n",
    "print(accuracy_score(y_test,pred_lr))\n",
    "print(confusion_matrix(y_test, pred_lr))"
   ]
  },
  {
   "cell_type": "code",
   "execution_count": 17,
   "id": "8ffa74e0",
   "metadata": {},
   "outputs": [
    {
     "name": "stdout",
     "output_type": "stream",
     "text": [
      "\n",
      "-------- SVM Classifier---\n",
      "0.9833333333333333\n",
      "[[37  0  0  0  0  0  0  0  0  0]\n",
      " [ 0 37  0  0  0  0  0  0  0  0]\n",
      " [ 0  0 31  0  0  0  0  0  0  0]\n",
      " [ 0  0  0 30  0  0  0  1  1  0]\n",
      " [ 0  0  0  0 32  0  0  1  1  0]\n",
      " [ 0  0  0  0  0 33  0  0  0  0]\n",
      " [ 0  0  0  0  0  0 33  0  0  0]\n",
      " [ 0  0  0  0  0  0  0 39  0  0]\n",
      " [ 0  1  0  0  0  0  0  0 40  0]\n",
      " [ 0  0  0  0  0  0  0  1  0 42]]\n"
     ]
    }
   ],
   "source": [
    "from sklearn.svm import SVC\n",
    "\n",
    "clf_svm = SVC(random_state=0)\n",
    "clf_svm.fit(X_train,y_train)\n",
    "\n",
    "pred_svm = clf_svm.predict(X_test)\n",
    "\n",
    "print(\"\\n-------- SVM Classifier---\")\n",
    "print(accuracy_score(y_test,pred_svm))\n",
    "print(confusion_matrix(y_test,pred_svm))"
   ]
  },
  {
   "cell_type": "code",
   "execution_count": 18,
   "id": "a4de41aa",
   "metadata": {},
   "outputs": [
    {
     "name": "stdout",
     "output_type": "stream",
     "text": [
      "\n",
      "---- Nerual Network Classifier --- \n",
      "0.9694444444444444\n",
      "[[37  0  0  0  0  0  0  0  0  0]\n",
      " [ 0 36  0  0  0  0  0  0  1  0]\n",
      " [ 0  0 31  0  0  0  0  0  0  0]\n",
      " [ 0  0  1 28  0  0  0  0  3  0]\n",
      " [ 0  0  0  0 32  0  0  0  0  2]\n",
      " [ 0  0  0  0  1 32  0  0  0  0]\n",
      " [ 0  0  0  0  1  0 32  0  0  0]\n",
      " [ 0  0  0  0  0  0  0 39  0  0]\n",
      " [ 0  0  0  0  0  0  0  0 41  0]\n",
      " [ 0  0  0  1  0  0  0  1  0 41]]\n"
     ]
    }
   ],
   "source": [
    "clf_nn = MLPClassifier(random_state= 0)\n",
    "clf_nn.fit(X_train,y_train)\n",
    "pred_nn = clf_nn.predict(X_test)\n",
    "\n",
    "print(\"\\n---- Nerual Network Classifier --- \")\n",
    "print(accuracy_score(y_test,pred_nn))\n",
    "print(confusion_matrix(y_test,pred_nn))"
   ]
  },
  {
   "cell_type": "code",
   "execution_count": 19,
   "id": "bfe63c53",
   "metadata": {},
   "outputs": [
    {
     "name": "stdout",
     "output_type": "stream",
     "text": [
      "\n",
      " ------ Decision Tree Classifier ----\n",
      "0.8305555555555556\n",
      "[[34  0  0  0  1  0  0  0  1  1]\n",
      " [ 0 32  0  1  0  0  2  0  2  0]\n",
      " [ 0  2 24  1  2  0  0  0  2  0]\n",
      " [ 0  1  0 23  0  1  0  0  2  5]\n",
      " [ 0  2  1  0 26  0  2  2  1  0]\n",
      " [ 0  0  0  0  0 31  1  0  1  0]\n",
      " [ 0  0  1  0  3  0 29  0  0  0]\n",
      " [ 0  2  0  1  1  1  0 34  0  0]\n",
      " [ 0  1  0  2  0  0  0  0 36  2]\n",
      " [ 1  2  0  1  1  0  0  5  3 30]]\n"
     ]
    }
   ],
   "source": [
    "clf_dt = DecisionTreeClassifier(random_state = 0)\n",
    "clf_dt.fit(X_train,y_train)\n",
    "pred_dt = clf_dt.predict(X_test)\n",
    "\n",
    "print(\"\\n ------ Decision Tree Classifier ----\")\n",
    "print(accuracy_score(y_test,pred_dt))\n",
    "print(confusion_matrix(y_test,pred_dt))"
   ]
  },
  {
   "cell_type": "code",
   "execution_count": 20,
   "id": "aca939a5",
   "metadata": {},
   "outputs": [
    {
     "name": "stdout",
     "output_type": "stream",
     "text": [
      "\n",
      " ---- Random Forest ---\n",
      "0.9666666666666667\n",
      "[[36  0  0  0  1  0  0  0  0  0]\n",
      " [ 0 37  0  0  0  0  0  0  0  0]\n",
      " [ 0  0 31  0  0  0  0  0  0  0]\n",
      " [ 0  0  0 29  0  0  0  0  2  1]\n",
      " [ 0  0  0  0 32  0  0  2  0  0]\n",
      " [ 0  0  0  0  1 31  0  0  0  1]\n",
      " [ 0  0  0  0  0  1 32  0  0  0]\n",
      " [ 0  0  0  0  0  0  0 39  0  0]\n",
      " [ 0  1  0  0  0  0  0  0 40  0]\n",
      " [ 0  0  0  0  0  0  0  1  1 41]]\n"
     ]
    }
   ],
   "source": [
    "from sklearn.ensemble import RandomForestClassifier\n",
    "from sklearn.metrics import accuracy_score\n",
    "import warnings\n",
    "warnings.filterwarnings('ignore')\n",
    "print(\"\\n ---- Random Forest ---\")\n",
    "rf_clf = RandomForestClassifier(random_state = 0)\n",
    "rf_clf.fit(X_train,y_train)\n",
    "\n",
    "pred_clf = rf_clf.predict(X_test)\n",
    "print(accuracy_score(y_test,pred_clf))\n",
    "print(confusion_matrix(y_test,pred_clf))"
   ]
  },
  {
   "cell_type": "code",
   "execution_count": 22,
   "id": "396695d5",
   "metadata": {},
   "outputs": [
    {
     "data": {
      "text/plain": [
       "array([[ 0.,  0.,  5., ...,  0.,  0.,  0.],\n",
       "       [ 0.,  0.,  0., ..., 10.,  0.,  0.],\n",
       "       [ 0.,  0.,  0., ..., 16.,  9.,  0.],\n",
       "       ...,\n",
       "       [ 0.,  0.,  1., ...,  6.,  0.,  0.],\n",
       "       [ 0.,  0.,  2., ..., 12.,  0.,  0.],\n",
       "       [ 0.,  0., 10., ..., 12.,  1.,  0.]])"
      ]
     },
     "execution_count": 22,
     "metadata": {},
     "output_type": "execute_result"
    }
   ],
   "source": [
    "data"
   ]
  },
  {
   "cell_type": "code",
   "execution_count": 24,
   "id": "b64a6657",
   "metadata": {},
   "outputs": [
    {
     "data": {
      "text/plain": [
       "array([0, 1, 2, ..., 8, 9, 8])"
      ]
     },
     "execution_count": 24,
     "metadata": {},
     "output_type": "execute_result"
    }
   ],
   "source": [
    "digits.target"
   ]
  },
  {
   "cell_type": "code",
   "execution_count": 114,
   "id": "2fb1ab56",
   "metadata": {},
   "outputs": [],
   "source": [
    "import pandas as pd\n",
    "digits.target = pd.get_dummies(digits.target).values"
   ]
  },
  {
   "cell_type": "code",
   "execution_count": 115,
   "id": "42c869d2",
   "metadata": {},
   "outputs": [],
   "source": [
    "X_train, X_test, y_train,y_test = train_test_split(data,digits.target, test_size = 0.2)"
   ]
  },
  {
   "cell_type": "code",
   "execution_count": 40,
   "id": "9656c3d9",
   "metadata": {},
   "outputs": [
    {
     "data": {
      "text/plain": [
       "(1437, 64)"
      ]
     },
     "execution_count": 40,
     "metadata": {},
     "output_type": "execute_result"
    }
   ],
   "source": [
    "X_train.shape"
   ]
  },
  {
   "cell_type": "code",
   "execution_count": 41,
   "id": "fc5abee6",
   "metadata": {
    "scrolled": true
   },
   "outputs": [
    {
     "data": {
      "text/plain": [
       "(360, 64)"
      ]
     },
     "execution_count": 41,
     "metadata": {},
     "output_type": "execute_result"
    }
   ],
   "source": [
    "X_test.shape"
   ]
  },
  {
   "cell_type": "code",
   "execution_count": 42,
   "id": "644fbd56",
   "metadata": {},
   "outputs": [
    {
     "data": {
      "text/plain": [
       "(1437, 10)"
      ]
     },
     "execution_count": 42,
     "metadata": {},
     "output_type": "execute_result"
    }
   ],
   "source": [
    "y_train.shape"
   ]
  },
  {
   "cell_type": "code",
   "execution_count": 116,
   "id": "c41a2f17",
   "metadata": {},
   "outputs": [
    {
     "name": "stderr",
     "output_type": "stream",
     "text": [
      "WARNING:absl:`lr` is deprecated in Keras optimizer, please use `learning_rate` or use the legacy optimizer, e.g.,tf.keras.optimizers.legacy.Adam.\n"
     ]
    },
    {
     "name": "stdout",
     "output_type": "stream",
     "text": [
      "Model: \"sequential_20\"\n",
      "_________________________________________________________________\n",
      " Layer (type)                Output Shape              Param #   \n",
      "=================================================================\n",
      " dense_84 (Dense)            (None, 32)                2080      \n",
      "                                                                 \n",
      " dense_85 (Dense)            (None, 16)                528       \n",
      "                                                                 \n",
      " dense_86 (Dense)            (None, 8)                 136       \n",
      "                                                                 \n",
      " dense_87 (Dense)            (None, 10)                90        \n",
      "                                                                 \n",
      "=================================================================\n",
      "Total params: 2834 (11.07 KB)\n",
      "Trainable params: 2834 (11.07 KB)\n",
      "Non-trainable params: 0 (0.00 Byte)\n",
      "_________________________________________________________________\n"
     ]
    }
   ],
   "source": [
    "from keras.models import Sequential\n",
    "from keras.layers import Dense\n",
    "from keras.optimizers import SGD,Adam\n",
    "import numpy as np\n",
    "\n",
    "model = Sequential()\n",
    "\n",
    "model.add(Dense(32,input_shape=(64,),activation='relu'))\n",
    "model.add(Dense(16,activation='relu'))\n",
    "model.add(Dense(8,activation='relu'))\n",
    "model.add(Dense(10,activation='softmax'))\n",
    "\n",
    "model.compile(Adam(lr=0.001),'categorical_crossentropy',metrics=['accuracy'])\n",
    "\n",
    "model.summary()"
   ]
  },
  {
   "cell_type": "code",
   "execution_count": 117,
   "id": "ea803a54",
   "metadata": {
    "scrolled": true
   },
   "outputs": [
    {
     "name": "stdout",
     "output_type": "stream",
     "text": [
      "Epoch 1/30\n",
      "23/23 [==============================] - 1s 9ms/step - loss: 4.8468 - accuracy: 0.1447 - val_loss: 2.7279 - val_accuracy: 0.1528\n",
      "Epoch 2/30\n",
      "23/23 [==============================] - 0s 3ms/step - loss: 2.3465 - accuracy: 0.1601 - val_loss: 2.2214 - val_accuracy: 0.1833\n",
      "Epoch 3/30\n",
      "23/23 [==============================] - 0s 3ms/step - loss: 2.1106 - accuracy: 0.1781 - val_loss: 2.0746 - val_accuracy: 0.1917\n",
      "Epoch 4/30\n",
      "23/23 [==============================] - 0s 3ms/step - loss: 1.9760 - accuracy: 0.2150 - val_loss: 1.9371 - val_accuracy: 0.2417\n",
      "Epoch 5/30\n",
      "23/23 [==============================] - 0s 3ms/step - loss: 1.8441 - accuracy: 0.2603 - val_loss: 1.8048 - val_accuracy: 0.2750\n",
      "Epoch 6/30\n",
      "23/23 [==============================] - 0s 3ms/step - loss: 1.7079 - accuracy: 0.3340 - val_loss: 1.6559 - val_accuracy: 0.3972\n",
      "Epoch 7/30\n",
      "23/23 [==============================] - 0s 3ms/step - loss: 1.5513 - accuracy: 0.4224 - val_loss: 1.5049 - val_accuracy: 0.4361\n",
      "Epoch 8/30\n",
      "23/23 [==============================] - 0s 3ms/step - loss: 1.3787 - accuracy: 0.4614 - val_loss: 1.2904 - val_accuracy: 0.5278\n",
      "Epoch 9/30\n",
      "23/23 [==============================] - 0s 3ms/step - loss: 1.1504 - accuracy: 0.5637 - val_loss: 1.0259 - val_accuracy: 0.6333\n",
      "Epoch 10/30\n",
      "23/23 [==============================] - 0s 3ms/step - loss: 0.9522 - accuracy: 0.6298 - val_loss: 0.8063 - val_accuracy: 0.7139\n",
      "Epoch 11/30\n",
      "23/23 [==============================] - 0s 3ms/step - loss: 0.7586 - accuracy: 0.7390 - val_loss: 0.6326 - val_accuracy: 0.8139\n",
      "Epoch 12/30\n",
      "23/23 [==============================] - 0s 3ms/step - loss: 0.6298 - accuracy: 0.7947 - val_loss: 0.5274 - val_accuracy: 0.8528\n",
      "Epoch 13/30\n",
      "23/23 [==============================] - 0s 3ms/step - loss: 0.5256 - accuracy: 0.8344 - val_loss: 0.4673 - val_accuracy: 0.8472\n",
      "Epoch 14/30\n",
      "23/23 [==============================] - 0s 3ms/step - loss: 0.4590 - accuracy: 0.8553 - val_loss: 0.4164 - val_accuracy: 0.8694\n",
      "Epoch 15/30\n",
      "23/23 [==============================] - 0s 3ms/step - loss: 0.4002 - accuracy: 0.8873 - val_loss: 0.3717 - val_accuracy: 0.8806\n",
      "Epoch 16/30\n",
      "23/23 [==============================] - 0s 3ms/step - loss: 0.3529 - accuracy: 0.9019 - val_loss: 0.3455 - val_accuracy: 0.8806\n",
      "Epoch 17/30\n",
      "23/23 [==============================] - 0s 3ms/step - loss: 0.3181 - accuracy: 0.9102 - val_loss: 0.3159 - val_accuracy: 0.8917\n",
      "Epoch 18/30\n",
      "23/23 [==============================] - 0s 3ms/step - loss: 0.2822 - accuracy: 0.9214 - val_loss: 0.2926 - val_accuracy: 0.9000\n",
      "Epoch 19/30\n",
      "23/23 [==============================] - 0s 3ms/step - loss: 0.2555 - accuracy: 0.9332 - val_loss: 0.2807 - val_accuracy: 0.9028\n",
      "Epoch 20/30\n",
      "23/23 [==============================] - 0s 2ms/step - loss: 0.2374 - accuracy: 0.9346 - val_loss: 0.2515 - val_accuracy: 0.9111\n",
      "Epoch 21/30\n",
      "23/23 [==============================] - 0s 3ms/step - loss: 0.2187 - accuracy: 0.9395 - val_loss: 0.2433 - val_accuracy: 0.9111\n",
      "Epoch 22/30\n",
      "23/23 [==============================] - 0s 3ms/step - loss: 0.1989 - accuracy: 0.9471 - val_loss: 0.2207 - val_accuracy: 0.9222\n",
      "Epoch 23/30\n",
      "23/23 [==============================] - 0s 3ms/step - loss: 0.1827 - accuracy: 0.9520 - val_loss: 0.2099 - val_accuracy: 0.9306\n",
      "Epoch 24/30\n",
      "23/23 [==============================] - 0s 3ms/step - loss: 0.1680 - accuracy: 0.9569 - val_loss: 0.1999 - val_accuracy: 0.9333\n",
      "Epoch 25/30\n",
      "23/23 [==============================] - 0s 3ms/step - loss: 0.1539 - accuracy: 0.9631 - val_loss: 0.2032 - val_accuracy: 0.9389\n",
      "Epoch 26/30\n",
      "23/23 [==============================] - 0s 3ms/step - loss: 0.1449 - accuracy: 0.9610 - val_loss: 0.1818 - val_accuracy: 0.9361\n",
      "Epoch 27/30\n",
      "23/23 [==============================] - 0s 3ms/step - loss: 0.1321 - accuracy: 0.9687 - val_loss: 0.1736 - val_accuracy: 0.9472\n",
      "Epoch 28/30\n",
      "23/23 [==============================] - 0s 3ms/step - loss: 0.1220 - accuracy: 0.9701 - val_loss: 0.1591 - val_accuracy: 0.9500\n",
      "Epoch 29/30\n",
      "23/23 [==============================] - 0s 3ms/step - loss: 0.1127 - accuracy: 0.9736 - val_loss: 0.1622 - val_accuracy: 0.9500\n",
      "Epoch 30/30\n",
      "23/23 [==============================] - 0s 3ms/step - loss: 0.1046 - accuracy: 0.9770 - val_loss: 0.1496 - val_accuracy: 0.9556\n",
      "12/12 [==============================] - 0s 1ms/step\n"
     ]
    }
   ],
   "source": [
    "model_history=model.fit(x=X_train, y=y_train, epochs=30, batch_size=64,validation_data= (X_test,y_test))\n",
    "y_pred = model.predict(X_test)\n",
    "\n",
    "y_test_class = np.argmax(y_test,axis=1)\n",
    "y_pred_class = np.argmax(y_pred,axis=1)"
   ]
  },
  {
   "cell_type": "code",
   "execution_count": 118,
   "id": "f2ce2fd4",
   "metadata": {},
   "outputs": [
    {
     "data": {
      "image/png": "[encoded data removed]",
      "text/plain": [
       "<Figure size 640x480 with 1 Axes>"
      ]
     },
     "metadata": {},
     "output_type": "display_data"
    }
   ],
   "source": [
    "import matplotlib.pyplot as plt\n",
    "import seaborn as sns\n",
    "\n",
    "loss =model_history.history['loss']\n",
    "val_loss =model_history.history['val_loss']\n",
    "epochs = range(1, len(loss) + 1)\n",
    "plt.plot(epochs, loss, 'y', label='Training loss')\n",
    "plt.plot(epochs, val_loss, 'r', label='Validation loss')\n",
    "plt.title('Training and validation loss')\n",
    "plt.xlabel('Epochs')\n",
    "plt.ylabel('Loss')\n",
    "plt.legend()\n",
    "plt.show()"
   ]
  },
  {
   "cell_type": "code",
   "execution_count": 119,
   "id": "dfd189c9",
   "metadata": {},
   "outputs": [
    {
     "data": {
      "image/png": "[encoded data removed]",
      "text/plain": [
       "<Figure size 640x480 with 1 Axes>"
      ]
     },
     "metadata": {},
     "output_type": "display_data"
    }
   ],
   "source": [
    "acc =model_history.history['accuracy']\n",
    "val_acc =model_history.history['val_accuracy']\n",
    "plt.plot(epochs, acc, 'y', label='Training acc')\n",
    "plt.plot(epochs, val_acc, 'r', label='Validation acc')\n",
    "plt.title('Training and validation accuracy')\n",
    "plt.xlabel('Epochs')\n",
    "plt.ylabel('Accuracy')\n",
    "plt.legend()\n",
    "plt.show()"
   ]
  },
  {
   "cell_type": "code",
   "execution_count": 120,
   "id": "0503a1dd",
   "metadata": {},
   "outputs": [
    {
     "name": "stdout",
     "output_type": "stream",
     "text": [
      "              precision    recall  f1-score   support\n",
      "\n",
      "           0       1.00      1.00      1.00        34\n",
      "           1       0.97      0.92      0.95        38\n",
      "           2       0.93      1.00      0.96        39\n",
      "           3       1.00      1.00      1.00        35\n",
      "           4       1.00      0.97      0.99        38\n",
      "           5       0.91      1.00      0.95        30\n",
      "           6       0.97      1.00      0.98        30\n",
      "           7       1.00      0.97      0.99        38\n",
      "           8       0.94      0.76      0.84        42\n",
      "           9       0.85      0.97      0.91        36\n",
      "\n",
      "    accuracy                           0.96       360\n",
      "   macro avg       0.96      0.96      0.96       360\n",
      "weighted avg       0.96      0.96      0.95       360\n",
      "\n",
      "[[34  0  0  0  0  0  0  0  0  0]\n",
      " [ 0 35  0  0  0  1  0  0  1  1]\n",
      " [ 0  0 39  0  0  0  0  0  0  0]\n",
      " [ 0  0  0 35  0  0  0  0  0  0]\n",
      " [ 0  0  0  0 37  0  1  0  0  0]\n",
      " [ 0  0  0  0  0 30  0  0  0  0]\n",
      " [ 0  0  0  0  0  0 30  0  0  0]\n",
      " [ 0  1  0  0  0  0  0 37  0  0]\n",
      " [ 0  0  3  0  0  2  0  0 32  5]\n",
      " [ 0  0  0  0  0  0  0  0  1 35]]\n"
     ]
    }
   ],
   "source": [
    "#Accuracy of the predicted values\n",
    "from sklearn.metrics import classification_report,confusion_matrix\n",
    "print(classification_report(y_test_class,y_pred_class))\n",
    "print(confusion_matrix(y_test_class,y_pred_class))"
   ]
  },
  {
   "cell_type": "code",
   "execution_count": 124,
   "id": "5cceccbd",
   "metadata": {},
   "outputs": [],
   "source": [
    "def split_sequences(sequences, n_steps):\n",
    "\tX, y = list(), list()\n",
    "\tfor i in range(len(sequences)):\n",
    "\t\t# find the end of this pattern\n",
    "\t\tend_ix = i + n_steps\n",
    "\t\t# check if we are beyond the dataset\n",
    "\t\tif end_ix > len(sequences):\n",
    "\t\t\tbreak\n",
    "\t\t# gather input and output parts of the pattern\n",
    "\t\tseq_x, seq_y = sequences[i:end_ix, :-1], sequences[end_ix-1, -1]\n",
    "\t\tX.append(seq_x)\n",
    "\t\ty.append(seq_y)\n",
    "\treturn np.array(X), np.array(y)"
   ]
  },
  {
   "cell_type": "code",
   "execution_count": 125,
   "id": "f481c54c",
   "metadata": {},
   "outputs": [
    {
     "name": "stdout",
     "output_type": "stream",
     "text": [
      "(1433, 5, 73) (1433,)\n",
      "(356, 5, 73) (356,)\n"
     ]
    }
   ],
   "source": [
    "y_train_array = np.array(y_train)\n",
    "train_set = np.c_[X_train, y_train_array]\n",
    "\n",
    "y_test_array = np.array(y_test)\n",
    "test_set = np.c_[X_test, y_test_array]\n",
    "\n",
    "# Apply sequence transformation using time step of 25 for both train and test data\n",
    "# All sensing modalities are recorded at a sampling rate of 50 Hz, which is considered sufficient for capturing human activity.\n",
    "\n",
    "X_train, y_train = split_sequences(train_set, 5)\n",
    "print(X_train.shape, y_train.shape)\n",
    "\n",
    "X_test, y_test = split_sequences(test_set, 5)\n",
    "print(X_test.shape, y_test.shape)   "
   ]
  },
  {
   "cell_type": "code",
   "execution_count": 126,
   "id": "a790d735",
   "metadata": {},
   "outputs": [],
   "source": [
    "y_train_onehot = pd.get_dummies(y_train).values\n",
    "y_test_onehot = pd.get_dummies(y_test).values"
   ]
  },
  {
   "cell_type": "code",
   "execution_count": 127,
   "id": "fd819523",
   "metadata": {},
   "outputs": [],
   "source": [
    "from tensorflow.keras.layers import Conv1D\n",
    "from tensorflow.keras.layers import Input\n",
    "from keras.layers import Dense, Flatten, Dropout"
   ]
  },
  {
   "cell_type": "code",
   "execution_count": 128,
   "id": "9b9c308e",
   "metadata": {},
   "outputs": [],
   "source": [
    "n_timesteps, n_features, n_outputs = X_train.shape[1], X_train.shape[2], y_train_onehot.shape[1]"
   ]
  },
  {
   "cell_type": "code",
   "execution_count": 129,
   "id": "fdd2f790",
   "metadata": {},
   "outputs": [
    {
     "data": {
      "text/plain": [
       "(5, 73, 2)"
      ]
     },
     "execution_count": 129,
     "metadata": {},
     "output_type": "execute_result"
    }
   ],
   "source": [
    "n_timesteps, n_features, n_outputs"
   ]
  },
  {
   "cell_type": "code",
   "execution_count": 130,
   "id": "88ae8af8",
   "metadata": {},
   "outputs": [],
   "source": [
    "import numpy as np\n",
    "import pandas as pd\n",
    "import seaborn as sns\n",
    "from sklearn.model_selection import train_test_split\n",
    "import tensorflow as tf\n",
    "from tensorflow import keras\n"
   ]
  },
  {
   "cell_type": "code",
   "execution_count": 143,
   "id": "52673c29",
   "metadata": {},
   "outputs": [
    {
     "name": "stdout",
     "output_type": "stream",
     "text": [
      "Model: \"model_4\"\n",
      "_________________________________________________________________\n",
      " Layer (type)                Output Shape              Param #   \n",
      "=================================================================\n",
      " input_6 (InputLayer)        [(None, 5, 73)]           0         \n",
      "                                                                 \n",
      " conv1d_5 (Conv1D)           (None, 3, 64)             14080     \n",
      "                                                                 \n",
      " flatten_5 (Flatten)         (None, 192)               0         \n",
      "                                                                 \n",
      " dense_99 (Dense)            (None, 64)                12352     \n",
      "                                                                 \n",
      " dense_100 (Dense)           (None, 2)                 130       \n",
      "                                                                 \n",
      "=================================================================\n",
      "Total params: 26562 (103.76 KB)\n",
      "Trainable params: 26562 (103.76 KB)\n",
      "Non-trainable params: 0 (0.00 Byte)\n",
      "_________________________________________________________________\n"
     ]
    }
   ],
   "source": [
    "#CNN 만들기 \n",
    "input_layer = Input(shape=(n_timesteps,n_features))\n",
    "\n",
    "conv1 = Conv1D(filters=64, kernel_size=3, activation='relu')(input_layer) \n",
    "flat = Flatten()(conv1)\n",
    "dens = Dense(64, activation = \"relu\")(flat)\n",
    "#dens = Dense(32, activation = \"relu\")(flat)\n",
    "#dens = Dense(16, activation = \"relu\")(flat)\n",
    "#dens = Dense(8, activation = \"relu\")(flat)\n",
    "outputs = Dense(2, activation = \"softmax\")(dens)\n",
    "\n",
    "model = keras.Model(input_layer, outputs)\n",
    "model.compile(loss='categorical_crossentropy', optimizer='adam', metrics=['accuracy'])\n",
    "model.summary()"
   ]
  },
  {
   "cell_type": "code",
   "execution_count": 144,
   "id": "2e89c4c3",
   "metadata": {},
   "outputs": [
    {
     "name": "stdout",
     "output_type": "stream",
     "text": [
      "Epoch 1/30\n",
      "41/41 [==============================] - 1s 6ms/step - loss: 0.8955 - accuracy: 0.8417 - val_loss: 0.4413 - val_accuracy: 0.8750\n",
      "Epoch 2/30\n",
      "41/41 [==============================] - 0s 3ms/step - loss: 0.2820 - accuracy: 0.9007 - val_loss: 0.2618 - val_accuracy: 0.8889\n",
      "Epoch 3/30\n",
      "41/41 [==============================] - 0s 3ms/step - loss: 0.1429 - accuracy: 0.9488 - val_loss: 0.1890 - val_accuracy: 0.9306\n",
      "Epoch 4/30\n",
      "41/41 [==============================] - 0s 3ms/step - loss: 0.0958 - accuracy: 0.9620 - val_loss: 0.1667 - val_accuracy: 0.9306\n",
      "Epoch 5/30\n",
      "41/41 [==============================] - 0s 3ms/step - loss: 0.0632 - accuracy: 0.9744 - val_loss: 0.1318 - val_accuracy: 0.9375\n",
      "Epoch 6/30\n",
      "41/41 [==============================] - 0s 3ms/step - loss: 0.0479 - accuracy: 0.9845 - val_loss: 0.1114 - val_accuracy: 0.9444\n",
      "Epoch 7/30\n",
      "41/41 [==============================] - 0s 3ms/step - loss: 0.0228 - accuracy: 0.9961 - val_loss: 0.1042 - val_accuracy: 0.9514\n",
      "Epoch 8/30\n",
      "41/41 [==============================] - 0s 3ms/step - loss: 0.0238 - accuracy: 0.9938 - val_loss: 0.1244 - val_accuracy: 0.9514\n",
      "Epoch 9/30\n",
      "41/41 [==============================] - 0s 3ms/step - loss: 0.0130 - accuracy: 0.9984 - val_loss: 0.1279 - val_accuracy: 0.9444\n",
      "Epoch 10/30\n",
      "41/41 [==============================] - 0s 3ms/step - loss: 0.0153 - accuracy: 0.9969 - val_loss: 0.0988 - val_accuracy: 0.9583\n",
      "Epoch 11/30\n",
      "41/41 [==============================] - 0s 3ms/step - loss: 0.0062 - accuracy: 1.0000 - val_loss: 0.1044 - val_accuracy: 0.9514\n",
      "Epoch 12/30\n",
      "41/41 [==============================] - 0s 3ms/step - loss: 0.0041 - accuracy: 1.0000 - val_loss: 0.1240 - val_accuracy: 0.9514\n",
      "Epoch 13/30\n",
      "41/41 [==============================] - 0s 3ms/step - loss: 0.0031 - accuracy: 1.0000 - val_loss: 0.1190 - val_accuracy: 0.9583\n",
      "Epoch 14/30\n",
      "41/41 [==============================] - 0s 3ms/step - loss: 0.0025 - accuracy: 1.0000 - val_loss: 0.1251 - val_accuracy: 0.9583\n",
      "Epoch 15/30\n",
      "41/41 [==============================] - 0s 3ms/step - loss: 0.0022 - accuracy: 1.0000 - val_loss: 0.1226 - val_accuracy: 0.9583\n",
      "Epoch 16/30\n",
      "41/41 [==============================] - 0s 3ms/step - loss: 0.0018 - accuracy: 1.0000 - val_loss: 0.1209 - val_accuracy: 0.9583\n",
      "Epoch 17/30\n",
      "41/41 [==============================] - 0s 3ms/step - loss: 0.0017 - accuracy: 1.0000 - val_loss: 0.1103 - val_accuracy: 0.9514\n",
      "Epoch 18/30\n",
      "41/41 [==============================] - 0s 3ms/step - loss: 0.0014 - accuracy: 1.0000 - val_loss: 0.1260 - val_accuracy: 0.9514\n",
      "Epoch 19/30\n",
      "41/41 [==============================] - 0s 3ms/step - loss: 0.0012 - accuracy: 1.0000 - val_loss: 0.1285 - val_accuracy: 0.9514\n",
      "Epoch 20/30\n",
      "41/41 [==============================] - 0s 3ms/step - loss: 0.0011 - accuracy: 1.0000 - val_loss: 0.1183 - val_accuracy: 0.9514\n",
      "Epoch 21/30\n",
      "41/41 [==============================] - 0s 3ms/step - loss: 9.8711e-04 - accuracy: 1.0000 - val_loss: 0.1172 - val_accuracy: 0.9444\n",
      "Epoch 22/30\n",
      "41/41 [==============================] - 0s 4ms/step - loss: 8.9211e-04 - accuracy: 1.0000 - val_loss: 0.1215 - val_accuracy: 0.9514\n",
      "Epoch 23/30\n",
      "41/41 [==============================] - 0s 3ms/step - loss: 8.1142e-04 - accuracy: 1.0000 - val_loss: 0.1159 - val_accuracy: 0.9444\n",
      "Epoch 24/30\n",
      "41/41 [==============================] - 0s 3ms/step - loss: 7.2501e-04 - accuracy: 1.0000 - val_loss: 0.1323 - val_accuracy: 0.9514\n",
      "Epoch 25/30\n",
      "41/41 [==============================] - 0s 3ms/step - loss: 6.9955e-04 - accuracy: 1.0000 - val_loss: 0.1205 - val_accuracy: 0.9514\n",
      "Epoch 26/30\n",
      "41/41 [==============================] - 0s 3ms/step - loss: 6.2266e-04 - accuracy: 1.0000 - val_loss: 0.1221 - val_accuracy: 0.9514\n",
      "Epoch 27/30\n",
      "41/41 [==============================] - 0s 3ms/step - loss: 5.5794e-04 - accuracy: 1.0000 - val_loss: 0.1296 - val_accuracy: 0.9514\n",
      "Epoch 28/30\n",
      "41/41 [==============================] - 0s 4ms/step - loss: 5.2298e-04 - accuracy: 1.0000 - val_loss: 0.1261 - val_accuracy: 0.9514\n",
      "Epoch 29/30\n",
      "41/41 [==============================] - 0s 3ms/step - loss: 4.8457e-04 - accuracy: 1.0000 - val_loss: 0.1172 - val_accuracy: 0.9514\n",
      "Epoch 30/30\n",
      "41/41 [==============================] - 0s 3ms/step - loss: 4.4373e-04 - accuracy: 1.0000 - val_loss: 0.1256 - val_accuracy: 0.9514\n"
     ]
    }
   ],
   "source": [
    "train_epochs = 30\n",
    "history = model.fit(X_train, y_train_onehot, epochs=train_epochs, verbose=True,  validation_split = 0.1)"
   ]
  },
  {
   "cell_type": "code",
   "execution_count": 149,
   "id": "358d1378",
   "metadata": {},
   "outputs": [
    {
     "data": {
      "image/png": "[encoded data removed]",
      "text/plain": [
       "<Figure size 640x480 with 1 Axes>"
      ]
     },
     "metadata": {},
     "output_type": "display_data"
    }
   ],
   "source": [
    "import matplotlib.pyplot as plt\n",
    "import seaborn as sns\n",
    "\n",
    "loss = history.history['loss']\n",
    "val_loss = history.history['val_loss']\n",
    "epochs = range(1, len(loss) + 1)\n",
    "plt.plot(epochs, loss, 'y', label='Training loss')\n",
    "plt.plot(epochs, val_loss, 'r', label='Validation loss')\n",
    "plt.title('Training and validation loss')\n",
    "plt.xlabel('Epochs')\n",
    "plt.ylabel('Loss')\n",
    "plt.legend()\n",
    "plt.show()"
   ]
  },
  {
   "cell_type": "code",
   "execution_count": 150,
   "id": "88bbcf7a",
   "metadata": {},
   "outputs": [
    {
     "data": {
      "image/png": "[encoded data removed]",
      "text/plain": [
       "<Figure size 640x480 with 1 Axes>"
      ]
     },
     "metadata": {},
     "output_type": "display_data"
    }
   ],
   "source": [
    "acc = history.history['accuracy']\n",
    "val_acc = history.history['val_accuracy']\n",
    "plt.plot(epochs, acc, 'y', label='Training acc')\n",
    "plt.plot(epochs, val_acc, 'r', label='Validation acc')\n",
    "plt.title('Training and validation accuracy')\n",
    "plt.xlabel('Epochs')\n",
    "plt.ylabel('Accuracy')\n",
    "plt.legend()\n",
    "plt.show()"
   ]
  },
  {
   "cell_type": "code",
   "execution_count": 151,
   "id": "bfda3c24",
   "metadata": {},
   "outputs": [
    {
     "name": "stdout",
     "output_type": "stream",
     "text": [
      "12/12 [==============================] - 0s 1ms/step\n"
     ]
    }
   ],
   "source": [
    "from sklearn.metrics import classification_report,confusion_matrix\n",
    "\n",
    "\n",
    "y_pred = model.predict(X_test)\n",
    "y_test_class = np.argmax(y_test_onehot,axis=1)\n",
    "y_pred_class = np.argmax(y_pred,axis=1)"
   ]
  },
  {
   "cell_type": "code",
   "execution_count": 152,
   "id": "cf0514ce",
   "metadata": {},
   "outputs": [
    {
     "name": "stdout",
     "output_type": "stream",
     "text": [
      "              precision    recall  f1-score   support\n",
      "\n",
      "           0       0.97      1.00      0.98       320\n",
      "           1       0.96      0.72      0.83        36\n",
      "\n",
      "    accuracy                           0.97       356\n",
      "   macro avg       0.97      0.86      0.90       356\n",
      "weighted avg       0.97      0.97      0.97       356\n",
      "\n",
      "[[319   1]\n",
      " [ 10  26]]\n"
     ]
    }
   ],
   "source": [
    "#Accuracy of the predicted values\n",
    "from sklearn.metrics import classification_report,confusion_matrix\n",
    "print(classification_report(y_test_class,y_pred_class))\n",
    "print(confusion_matrix(y_test_class,y_pred_class))"
   ]
  }
 ],
 "metadata": {
  "kernelspec": {
   "display_name": "Python 3 (ipykernel)",
   "language": "python",
   "name": "python3"
  },
  "language_info": {
   "codemirror_mode": {
    "name": "ipython",
    "version": 3
   },
   "file_extension": ".py",
   "mimetype": "text/x-python",
   "name": "python",
   "nbconvert_exporter": "python",
   "pygments_lexer": "ipython3",
   "version": "3.11.4"
  }
 },
 "nbformat": 4,
 "nbformat_minor": 5
}
